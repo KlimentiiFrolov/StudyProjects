{
 "cells": [
  {
   "cell_type": "markdown",
   "id": "ee480f0f-74b6-45bb-a4c4-bb469be83daf",
   "metadata": {},
   "source": [
    "# Main Programms"
   ]
  },
  {
   "cell_type": "code",
   "execution_count": 2,
   "id": "f18076d3-5847-42a1-9bed-763ebf8a5bcf",
   "metadata": {},
   "outputs": [
    {
     "name": "stdout",
     "output_type": "stream",
     "text": [
      "Hello world\n"
     ]
    }
   ],
   "source": [
    "print('Hello world')"
   ]
  },
  {
   "cell_type": "code",
   "execution_count": null,
   "id": "ed788c2e-1a7c-47cb-bb2a-7bb5a4f6ce60",
   "metadata": {},
   "outputs": [],
   "source": []
  }
 ],
 "metadata": {
  "kernelspec": {
   "display_name": "Python 3 (ipykernel)",
   "language": "python",
   "name": "python3"
  },
  "language_info": {
   "codemirror_mode": {
    "name": "ipython",
    "version": 3
   },
   "file_extension": ".py",
   "mimetype": "text/x-python",
   "name": "python",
   "nbconvert_exporter": "python",
   "pygments_lexer": "ipython3",
   "version": "3.10.7"
  }
 },
 "nbformat": 4,
 "nbformat_minor": 5
}
