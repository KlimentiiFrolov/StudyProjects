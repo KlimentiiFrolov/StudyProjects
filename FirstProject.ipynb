{
 "cells": [
  {
   "cell_type": "markdown",
   "id": "179fbcdd-383d-4122-9788-ff0be8d23288",
   "metadata": {},
   "source": [
    "# Задача №1 - GitHub"
   ]
  },
  {
   "cell_type": "markdown",
   "id": "77427090-eb50-4249-8fa6-f32530bb7e8e",
   "metadata": {},
   "source": [
    "1. Зарегистрироваться на GitHub\n",
    "2. Создать репозиторий\n",
    "3. Клонировать (clone) репозиторий себе на компьютер\n",
    "4. Закинуть notebook в репозиторий на компьютере\n",
    "5. Сделать коммит\n",
    "6. Сделать push коммита  \n",
    "конец задачи"
   ]
  },
  {
   "cell_type": "markdown",
   "id": "1143cb96-85b0-4ea5-b646-fbf4b58f20d6",
   "metadata": {},
   "source": [
    "# Задача №2 - PR"
   ]
  },
  {
   "cell_type": "markdown",
   "id": "4ecbb407-a27e-418e-add9-89536eba4e50",
   "metadata": {},
   "source": [
    "1. Создать branch\n",
    "2. Добавить файл в этот branch\n",
    "3. Сделать 5 - 6 из задача №1\n",
    "4. Сделать pull request\n",
    "5. Добавить репозиторй другого пользователя\n",
    "6. Сделать merge  \n",
    "Конец задачи"
   ]
  },
  {
   "cell_type": "code",
   "execution_count": null,
   "id": "ada4cf9a-2377-43ea-acd7-0e9a2d6662fd",
   "metadata": {},
   "outputs": [],
   "source": []
  }
 ],
 "metadata": {
  "kernelspec": {
   "display_name": "Python 3 (ipykernel)",
   "language": "python",
   "name": "python3"
  },
  "language_info": {
   "codemirror_mode": {
    "name": "ipython",
    "version": 3
   },
   "file_extension": ".py",
   "mimetype": "text/x-python",
   "name": "python",
   "nbconvert_exporter": "python",
   "pygments_lexer": "ipython3",
   "version": "3.10.7"
  }
 },
 "nbformat": 4,
 "nbformat_minor": 5
}
